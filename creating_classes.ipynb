{
 "cells": [
  {
   "cell_type": "code",
   "execution_count": 1,
   "metadata": {},
   "outputs": [],
   "source": [
    "class user:\n",
    "    def __init__(self, name, age= 21 , gender='female'):\n",
    "        self.name= name\n",
    "        self.age= age\n",
    "        self.gender= gender\n",
    "    \n",
    "    def __repr__(self):\n",
    "        return self.name\n",
    "    "
   ]
  },
  {
   "cell_type": "code",
   "execution_count": 2,
   "metadata": {},
   "outputs": [
    {
     "data": {
      "text/plain": [
       "mahipal"
      ]
     },
     "execution_count": 2,
     "metadata": {},
     "output_type": "execute_result"
    }
   ],
   "source": [
    "u1 = user('mahipal', 22, 'male')\n",
    "u1"
   ]
  },
  {
   "cell_type": "code",
   "execution_count": 9,
   "metadata": {},
   "outputs": [],
   "source": [
    "class student(user):\n",
    "    def __init__(self,name,college,klass,rollno, age=21, gender='female'):\n",
    "        super().__init__(name,age,gender)\n",
    "        self.college= college\n",
    "        self.klass = klass\n",
    "        self.rollno= rollno\n",
    "\n",
    "    def info(self):\n",
    "        print('student details')        \n",
    "        print('name:',self.name)        \n",
    "        print('age:', self.age)        \n",
    "        print('college:',self.college)        \n",
    "        print('class:',self.klass)        \n",
    "        print('roll no:',self.rollno)     \n",
    "        print('***'*10)     \n"
   ]
  },
  {
   "cell_type": "code",
   "execution_count": 11,
   "metadata": {},
   "outputs": [
    {
     "data": {
      "text/plain": [
       "mahipal"
      ]
     },
     "execution_count": 11,
     "metadata": {},
     "output_type": "execute_result"
    }
   ],
   "source": [
    "s1= student('mahipal','BBDU','bca','1200211101','age=22',gender='male')\n",
    "s1"
   ]
  },
  {
   "cell_type": "code",
   "execution_count": 7,
   "metadata": {},
   "outputs": [
    {
     "data": {
      "text/plain": [
       "<bound method student.info of mahipal>"
      ]
     },
     "execution_count": 7,
     "metadata": {},
     "output_type": "execute_result"
    }
   ],
   "source": [
    "s1.info"
   ]
  },
  {
   "cell_type": "code",
   "execution_count": 12,
   "metadata": {},
   "outputs": [
    {
     "name": "stdout",
     "output_type": "stream",
     "text": [
      "student details\n",
      "name: mahipal\n",
      "age: age=22\n",
      "college: BBDU\n",
      "class: bca\n",
      "roll no: 1200211101\n",
      "******************************\n"
     ]
    }
   ],
   "source": [
    "s1.info()"
   ]
  },
  {
   "cell_type": "code",
   "execution_count": 17,
   "metadata": {},
   "outputs": [],
   "source": [
    "class mylist(list):\n",
    "    def __mul__(self,other):\n",
    "        output =[]\n",
    "        for i,j in zip(self,other):\n",
    "            output.append(i*j)\n",
    "        return output\n",
    "    def sum(self):\n",
    "        return sum(self)\n",
    "    def mean(self):\n",
    "        return sum(self)/len(self)"
   ]
  },
  {
   "cell_type": "code",
   "execution_count": 18,
   "metadata": {},
   "outputs": [
    {
     "data": {
      "text/plain": [
       "[10, 40, 90, 160, 250]"
      ]
     },
     "execution_count": 18,
     "metadata": {},
     "output_type": "execute_result"
    }
   ],
   "source": [
    "x=mylist([1,2,3,4,5])\n",
    "y=mylist([10,20,30,40,50])\n",
    "x*y"
   ]
  },
  {
   "cell_type": "code",
   "execution_count": null,
   "metadata": {},
   "outputs": [],
   "source": []
  }
 ],
 "metadata": {
  "kernelspec": {
   "display_name": "base",
   "language": "python",
   "name": "python3"
  },
  "language_info": {
   "codemirror_mode": {
    "name": "ipython",
    "version": 3
   },
   "file_extension": ".py",
   "mimetype": "text/x-python",
   "name": "python",
   "nbconvert_exporter": "python",
   "pygments_lexer": "ipython3",
   "version": "3.10.8"
  },
  "orig_nbformat": 4
 },
 "nbformat": 4,
 "nbformat_minor": 2
}
